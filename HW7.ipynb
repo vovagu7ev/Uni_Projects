{
  "cells": [
    {
      "cell_type": "markdown",
      "metadata": {
        "id": "view-in-github",
        "colab_type": "text"
      },
      "source": [
        "<a href=\"https://colab.research.google.com/github/lse-st455/hw7-vovagu7ev/blob/main/HW7.ipynb\" target=\"_parent\"><img src=\"https://colab.research.google.com/assets/colab-badge.svg\" alt=\"Open In Colab\"/></a>"
      ]
    },
    {
      "cell_type": "markdown",
      "id": "95cdcfa0",
      "metadata": {
        "id": "95cdcfa0"
      },
      "source": [
        "### In this homework assigment, you are required to apply the neural fitted Q-iteration algorithm to a pre-collected dataset for batch (offline) policy optimisation. Please follow the instructions detailed below."
      ]
    },
    {
      "cell_type": "markdown",
      "id": "875d34bd",
      "metadata": {
        "id": "875d34bd"
      },
      "source": [
        "Step 1: Generate an offline dataset. Consider the CartPole example. We will use a sub-optimal policy for data generation. Specifically, consider the following deterministic policy $\\pi_b$ that returns 0 (left) if the pole angle is negative and 1 otherwise. To allow exploration, we set the behavior policy to be a mixture of $\\pi_b$ and a uniform random policy. Specifically, the agent will follow the uniform random policy or $\\pi_b$ with equal probability. We simulate 100 episodes under this policy. This yields the offline dataset.\n",
        "\n",
        "Step 2: Fitted Q-iteration. We will apply the neural fitted Q-iteration (FQI) algorithm to this offline data to compute an optimal policy with three different choices of $\\gamma$, corresponding to 0.95, 0.99 and 1. Please refer to Page 43 of Lecture 5 for the pseudocode of FQI in batch settings. We repeat the Q-iteration 20 times, e.g., apply supervised learning algorithms 20 times to learn the optimal Q-function. The initial Q-estimator can be set to a zero function. Each iteration yields a Q-estimator, based on which we can derive an estimated optimal policy. In total, we obtain 20 $\\times$ 3 (3 choices of $\\gamma$) different policies.\n",
        "\n",
        "* To combine FQI with neural networks, we consider using the [MLPregressor](https://scikit-learn.org/stable/modules/generated/sklearn.neural_network.MLPRegressor.html) function. We can use the default neural network architecture (no need to specify no. of layers or no. of hidden nodes per layer). We may set the maximum number of iterations to 500.\n",
        "\n",
        "* In this example, we only have two actions (either pushing the cart to the left or to the right). As such, it would be better to use the second type of value function approximators on Page 11 of Lecture 5 (e.g., for each action, use a separate model for the value). The last type of approximators would be preferred in settings where we have a large action space.\n",
        "\n",
        "* The TD target depends on whether the current state is a terminal state or not. For a nonterminal state, the TD target is constructed as in the lecture slide. For a terminal state, the TD target is equal to the immediate reward.\n",
        "\n",
        "Step 3: Policy evaluation. For each of the computed 60 policies, we use the Monte Carlo method to evaluate the expected return under this policy, by generating 1000 episodes. Finally, plot all the returns in a single figure and comment on the results."
      ]
    },
    {
      "cell_type": "markdown",
      "source": [
        "# Step 1: Generate an offline dataset"
      ],
      "metadata": {
        "id": "ghf-I2tR65u2"
      },
      "id": "ghf-I2tR65u2"
    },
    {
      "cell_type": "code",
      "source": [
        "import gym\n",
        "import numpy as np\n",
        "import random\n",
        "import warnings\n",
        "warnings.filterwarnings('ignore')\n",
        "\n",
        "env = gym.make('CartPole-v1')\n",
        "\n",
        "\n",
        "# set the random seed for reproducibility\n",
        "random.seed(123)\n",
        "np.random.seed(123)\n",
        "env.seed(123)\n",
        "\n",
        "\n",
        "\n",
        "def suboptimal_policy(observation):\n",
        "    pole_angle = observation[2]\n",
        "    action = 0 if pole_angle < 0 else 1\n",
        "    return action\n",
        "\n",
        "\n",
        "def mixture_policy(observation):\n",
        "    if random.random() < 0.5:\n",
        "        return suboptimal_policy(observation)\n",
        "    else:\n",
        "        return env.action_space.sample()\n",
        "\n",
        "\n",
        "def generate_dataset(policy, num_episodes):\n",
        "    dataset = []\n",
        "    for episode in range(num_episodes):\n",
        "        obs = env.reset()\n",
        "        done = False\n",
        "        while not done:\n",
        "            action = policy(obs)\n",
        "            next_obs, reward, done, _ = env.step(action)\n",
        "            dataset.append((obs, action, reward, next_obs, done))\n",
        "            obs = next_obs\n",
        "    return dataset\n",
        "\n",
        "\n",
        "dataset = generate_dataset(mixture_policy, 100)\n",
        "print(\"Dataset size: \", len(dataset))\n"
      ],
      "metadata": {
        "colab": {
          "base_uri": "https://localhost:8080/"
        },
        "id": "G2Owkw2DMjtN",
        "outputId": "f840c3b9-ba0f-4b80-abbb-92649a03b282"
      },
      "id": "G2Owkw2DMjtN",
      "execution_count": null,
      "outputs": [
        {
          "output_type": "stream",
          "name": "stdout",
          "text": [
            "Dataset size:  4052\n"
          ]
        }
      ]
    },
    {
      "cell_type": "markdown",
      "source": [
        "# Step 2: Fitted Q-iteration"
      ],
      "metadata": {
        "id": "HL8fxyav7JgK"
      },
      "id": "HL8fxyav7JgK"
    },
    {
      "cell_type": "code",
      "source": [
        "from sklearn.neural_network import MLPRegressor\n",
        "from sklearn.metrics import mean_squared_error\n",
        "\n",
        "\n",
        "def fqi(dataset, gamma, num_iterations, max_iterations):\n",
        "    # create separate datasets for states and actions\n",
        "    states = np.array([data[0] for data in dataset])\n",
        "    actions = np.array([data[1] for data in dataset])\n",
        "    rewards = np.array([data[2] for data in dataset])\n",
        "    next_states = np.array([data[3] for data in dataset])\n",
        "    dones = np.array([data[4] for data in dataset])\n",
        "    \n",
        "    num_actions = env.action_space.n\n",
        "    \n",
        "    # initialize Q-estimator to zero function\n",
        "    q_estimator = np.zeros((len(states), num_actions))\n",
        "    \n",
        "    q_estimators = [q_estimator]\n",
        "    \n",
        "    for iteration in range(num_iterations):\n",
        "        print(\"Iteration \", iteration+1)\n",
        "        \n",
        "        # compute targets\n",
        "        targets = np.zeros((len(states), num_actions))\n",
        "        \n",
        "        for action in range(num_actions):\n",
        "            next_q = np.zeros((len(states), 1))\n",
        "            for j in range(len(states)):\n",
        "                if dones[j]:\n",
        "                    next_q[j, 0] = rewards[j]\n",
        "                else:\n",
        "                    next_q[j, 0] = max(q_estimators[-1][j, :])\n",
        "            targets[:, action] = rewards + gamma * next_q[:, 0]\n",
        "        \n",
        "        # fit MLPregressor to dataset\n",
        "        mlp = MLPRegressor(max_iter=max_iterations)\n",
        "        mlp.fit(np.hstack((states, actions.reshape(-1,1))), targets)\n",
        "        \n",
        "        # update Q-estimator\n",
        "        q_estimator = mlp.predict(np.hstack((states, actions.reshape(-1,1))))\n",
        "        q_estimators.append(q_estimator)\n",
        "        \n",
        "        # compute MSE\n",
        "        mse = mean_squared_error(targets, q_estimator)\n",
        "        print(\"MSE: \", mse)\n",
        "        \n",
        "    return q_estimators[1:]\n",
        "\n",
        "\n",
        "gammas = [0.95, 0.99, 1.0]\n",
        "num_iterations = 20\n",
        "max_iterations = 500\n",
        "\n",
        "q_estimators = []\n",
        "for gamma in gammas:\n",
        "    q_estimators.extend(fqi(dataset, gamma, num_iterations, max_iterations))\n"
      ],
      "metadata": {
        "colab": {
          "base_uri": "https://localhost:8080/"
        },
        "id": "wTzLFnE67JW_",
        "outputId": "c7fcc694-26ff-4933-ba0d-40c090b7f20d"
      },
      "id": "wTzLFnE67JW_",
      "execution_count": null,
      "outputs": [
        {
          "output_type": "stream",
          "name": "stdout",
          "text": [
            "Iteration  1\n",
            "MSE:  0.017471353531478898\n",
            "Iteration  2\n",
            "MSE:  0.0010498939423882812\n",
            "Iteration  3\n",
            "MSE:  0.019908723914142362\n",
            "Iteration  4\n",
            "MSE:  0.03936047112163024\n",
            "Iteration  5\n",
            "MSE:  0.028913018714285185\n",
            "Iteration  6\n",
            "MSE:  0.029990812438078412\n",
            "Iteration  7\n",
            "MSE:  0.04173824469941838\n",
            "Iteration  8\n",
            "MSE:  0.055405301253564604\n",
            "Iteration  9\n",
            "MSE:  0.05389541168187686\n",
            "Iteration  10\n",
            "MSE:  0.06581544690051121\n",
            "Iteration  11\n",
            "MSE:  0.09789000533346956\n",
            "Iteration  12\n",
            "MSE:  0.15318577408682793\n",
            "Iteration  13\n",
            "MSE:  0.09816132907348396\n",
            "Iteration  14\n",
            "MSE:  0.11822838561351204\n",
            "Iteration  15\n",
            "MSE:  0.12862619528448482\n",
            "Iteration  16\n",
            "MSE:  0.12165256986462031\n",
            "Iteration  17\n",
            "MSE:  0.14996805339290678\n",
            "Iteration  18\n",
            "MSE:  0.1234273011991287\n",
            "Iteration  19\n",
            "MSE:  0.14047783934864652\n",
            "Iteration  20\n",
            "MSE:  0.13599451995606665\n",
            "Iteration  1\n",
            "MSE:  0.01993059287648019\n",
            "Iteration  2\n",
            "MSE:  0.0010008072468019671\n",
            "Iteration  3\n",
            "MSE:  0.025256960025827998\n",
            "Iteration  4\n",
            "MSE:  0.030595507349168535\n",
            "Iteration  5\n",
            "MSE:  0.03515582070985311\n",
            "Iteration  6\n",
            "MSE:  0.04295017462544033\n",
            "Iteration  7\n",
            "MSE:  0.07103165855586926\n",
            "Iteration  8\n",
            "MSE:  0.07223279339367535\n",
            "Iteration  9\n",
            "MSE:  0.09579755179519121\n",
            "Iteration  10\n",
            "MSE:  0.18182590685068756\n",
            "Iteration  11\n",
            "MSE:  0.13718375204333275\n",
            "Iteration  12\n",
            "MSE:  0.1294809065161813\n",
            "Iteration  13\n",
            "MSE:  0.14065730297348863\n",
            "Iteration  14\n",
            "MSE:  0.17579423869623978\n",
            "Iteration  15\n",
            "MSE:  0.17537572973477988\n",
            "Iteration  16\n",
            "MSE:  0.21122758415586096\n",
            "Iteration  17\n",
            "MSE:  0.264573799689682\n",
            "Iteration  18\n",
            "MSE:  0.2190550310762198\n",
            "Iteration  19\n",
            "MSE:  0.4748715376152083\n",
            "Iteration  20\n",
            "MSE:  0.3563509424454164\n",
            "Iteration  1\n",
            "MSE:  0.019643868146346166\n",
            "Iteration  2\n",
            "MSE:  0.0012212358245170917\n",
            "Iteration  3\n",
            "MSE:  0.02630797802773563\n",
            "Iteration  4\n",
            "MSE:  0.029803084556562255\n",
            "Iteration  5\n",
            "MSE:  0.032962372923676805\n",
            "Iteration  6\n",
            "MSE:  0.051248938134443006\n",
            "Iteration  7\n",
            "MSE:  0.06408335824193767\n",
            "Iteration  8\n",
            "MSE:  0.09148513457871052\n",
            "Iteration  9\n",
            "MSE:  0.11060320437520291\n",
            "Iteration  10\n",
            "MSE:  0.12940355072287102\n",
            "Iteration  11\n",
            "MSE:  0.15672140117817535\n",
            "Iteration  12\n",
            "MSE:  0.20783926933861263\n",
            "Iteration  13\n",
            "MSE:  0.20146873032016788\n",
            "Iteration  14\n",
            "MSE:  0.41129623719786934\n",
            "Iteration  15\n",
            "MSE:  0.29025636576057023\n",
            "Iteration  16\n",
            "MSE:  0.2656483731513694\n",
            "Iteration  17\n",
            "MSE:  0.47959790902705857\n",
            "Iteration  18\n",
            "MSE:  0.3844872855577029\n",
            "Iteration  19\n",
            "MSE:  0.46236567902437764\n",
            "Iteration  20\n",
            "MSE:  0.38163774455101945\n"
          ]
        }
      ]
    },
    {
      "cell_type": "markdown",
      "source": [
        "# Step 3: Policy Evaluation."
      ],
      "metadata": {
        "id": "HqdzocBaQ9gP"
      },
      "id": "HqdzocBaQ9gP"
    },
    {
      "cell_type": "code",
      "source": [
        "import matplotlib.pyplot as plt\n",
        "\n",
        "def evaluate_policy(policy, num_episodes):\n",
        "    total_rewards = []\n",
        "    for episode in range(num_episodes):\n",
        "        obs = env.reset()\n",
        "        done = False\n",
        "        episode_reward = 0\n",
        "        while not done:\n",
        "            action = policy(obs)\n",
        "            obs, reward, done, _ = env.step(action)\n",
        "            episode_reward += reward\n",
        "        total_rewards.append(episode_reward)\n",
        "    return np.mean(total_rewards)\n",
        "\n",
        "\n",
        "num_episodes_eval = 1000\n",
        "\n",
        "policy_returns = []\n",
        "for q_estimator in q_estimators:\n",
        "    policy = lambda obs: int(np.clip(np.argmax(q_estimator[np.array(obs).reshape(1,-1).astype(int), :]), 0, 1))\n",
        "\n",
        "    policy_return = evaluate_policy(policy, num_episodes_eval)\n",
        "    policy_returns.append(policy_return)\n",
        "    \n",
        "colors = ['blue', 'orange', 'green']\n",
        "\n",
        "plt.figure(figsize=(8,6))\n",
        "for i in range(len(gammas)):\n",
        "    start_index = i*num_iterations\n",
        "    end_index = (i+1)*num_iterations\n",
        "    plt.plot(range(num_iterations), policy_returns[start_index:end_index], color=colors[i], label=\"gamma={}\".format(gammas[i]))\n",
        "plt.xlabel(\"Iteration Number\")\n",
        "plt.ylabel(\"Policy Return\")\n",
        "plt.title(\"Policy Evaluation\")\n",
        "plt.legend()\n",
        "plt.show()\n"
      ],
      "metadata": {
        "colab": {
          "base_uri": "https://localhost:8080/",
          "height": 404
        },
        "id": "2iCTMiZ_NL5V",
        "outputId": "ff44e970-33e2-48bd-bebd-8d89c7bf061e"
      },
      "id": "2iCTMiZ_NL5V",
      "execution_count": null,
      "outputs": [
        {
          "output_type": "display_data",
          "data": {
            "text/plain": [
              "<Figure size 576x432 with 1 Axes>"
            ],
            "image/png": "[encoded data removed]"
          },
          "metadata": {
            "needs_background": "light"
          }
        }
      ]
    }
  ],
  "metadata": {
    "kernelspec": {
      "display_name": "Python 3 (ipykernel)",
      "language": "python",
      "name": "python3"
    },
    "language_info": {
      "codemirror_mode": {
        "name": "ipython",
        "version": 3
      },
      "file_extension": ".py",
      "mimetype": "text/x-python",
      "name": "python",
      "nbconvert_exporter": "python",
      "pygments_lexer": "ipython3",
      "version": "3.9.7"
    },
    "colab": {
      "provenance": [],
      "include_colab_link": true
    }
  },
  "nbformat": 4,
  "nbformat_minor": 5
}